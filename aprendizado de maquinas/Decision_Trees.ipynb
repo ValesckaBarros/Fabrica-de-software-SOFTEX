{
  "cells": [
    {
      "cell_type": "markdown",
      "metadata": {
        "id": "pLb-Dd45kgK5"
      },
      "source": [
        "**SETTINGS**"
      ]
    },
    {
      "cell_type": "code",
      "execution_count": 2,
      "metadata": {
        "id": "0i15VLlm_7i1"
      },
      "outputs": [],
      "source": [
        "import pandas as pd\n",
        "\n",
        "import pydotplus #pip install pydotplus\n",
        "import numpy as np"
      ]
    },
    {
      "cell_type": "markdown",
      "metadata": {
        "id": "1OOfD7iC3ge7"
      },
      "source": [
        "# Reading a dataset"
      ]
    },
    {
      "cell_type": "code",
      "execution_count": 3,
      "metadata": {
        "colab": {
          "base_uri": "https://localhost:8080/",
          "height": 206
        },
        "id": "gYMmeoa-Ajvb",
        "outputId": "c1c8c94e-e4de-4f66-be5a-4c6e2847574c"
      },
      "outputs": [
        {
          "data": {
            "text/html": [
              "<div>\n",
              "<style scoped>\n",
              "    .dataframe tbody tr th:only-of-type {\n",
              "        vertical-align: middle;\n",
              "    }\n",
              "\n",
              "    .dataframe tbody tr th {\n",
              "        vertical-align: top;\n",
              "    }\n",
              "\n",
              "    .dataframe thead th {\n",
              "        text-align: right;\n",
              "    }\n",
              "</style>\n",
              "<table border=\"1\" class=\"dataframe\">\n",
              "  <thead>\n",
              "    <tr style=\"text-align: right;\">\n",
              "      <th></th>\n",
              "      <th>preg</th>\n",
              "      <th>plas</th>\n",
              "      <th>pres</th>\n",
              "      <th>skin</th>\n",
              "      <th>insu</th>\n",
              "      <th>mass</th>\n",
              "      <th>pedi</th>\n",
              "      <th>age</th>\n",
              "      <th>class</th>\n",
              "    </tr>\n",
              "  </thead>\n",
              "  <tbody>\n",
              "    <tr>\n",
              "      <th>0</th>\n",
              "      <td>6</td>\n",
              "      <td>148</td>\n",
              "      <td>72</td>\n",
              "      <td>35</td>\n",
              "      <td>0</td>\n",
              "      <td>33.6</td>\n",
              "      <td>0.627</td>\n",
              "      <td>50</td>\n",
              "      <td>tested_positive</td>\n",
              "    </tr>\n",
              "    <tr>\n",
              "      <th>1</th>\n",
              "      <td>1</td>\n",
              "      <td>85</td>\n",
              "      <td>66</td>\n",
              "      <td>29</td>\n",
              "      <td>0</td>\n",
              "      <td>26.6</td>\n",
              "      <td>0.351</td>\n",
              "      <td>31</td>\n",
              "      <td>tested_negative</td>\n",
              "    </tr>\n",
              "    <tr>\n",
              "      <th>2</th>\n",
              "      <td>8</td>\n",
              "      <td>183</td>\n",
              "      <td>64</td>\n",
              "      <td>0</td>\n",
              "      <td>0</td>\n",
              "      <td>23.3</td>\n",
              "      <td>0.672</td>\n",
              "      <td>32</td>\n",
              "      <td>tested_positive</td>\n",
              "    </tr>\n",
              "    <tr>\n",
              "      <th>3</th>\n",
              "      <td>1</td>\n",
              "      <td>89</td>\n",
              "      <td>66</td>\n",
              "      <td>23</td>\n",
              "      <td>94</td>\n",
              "      <td>28.1</td>\n",
              "      <td>0.167</td>\n",
              "      <td>21</td>\n",
              "      <td>tested_negative</td>\n",
              "    </tr>\n",
              "    <tr>\n",
              "      <th>4</th>\n",
              "      <td>0</td>\n",
              "      <td>137</td>\n",
              "      <td>40</td>\n",
              "      <td>35</td>\n",
              "      <td>168</td>\n",
              "      <td>43.1</td>\n",
              "      <td>2.288</td>\n",
              "      <td>33</td>\n",
              "      <td>tested_positive</td>\n",
              "    </tr>\n",
              "  </tbody>\n",
              "</table>\n",
              "</div>"
            ],
            "text/plain": [
              "   preg  plas  pres  skin  insu  mass   pedi  age            class\n",
              "0     6   148    72    35     0  33.6  0.627   50  tested_positive\n",
              "1     1    85    66    29     0  26.6  0.351   31  tested_negative\n",
              "2     8   183    64     0     0  23.3  0.672   32  tested_positive\n",
              "3     1    89    66    23    94  28.1  0.167   21  tested_negative\n",
              "4     0   137    40    35   168  43.1  2.288   33  tested_positive"
            ]
          },
          "execution_count": 3,
          "metadata": {},
          "output_type": "execute_result"
        }
      ],
      "source": [
        "df = pd.read_csv('diabetes.csv')\n",
        "\n",
        "df.head()"
      ]
    },
    {
      "cell_type": "markdown",
      "metadata": {
        "id": "2cnV0cxNmRkQ"
      },
      "source": [
        "Comentários:\n",
        "\n",
        "1. O problema de **classificação** acima consiste em predizer se um indivíduo tem ou não diabetes baseado em características como idade e massaa corporal, além de resultados de exames. O **atributo-alvo (classe)** do problema é o atributo class, que pode assumir dois valores: tested positive ou tested negative para diabetes. Sendo assim, se trata de um problema de **classificação binário**. Os atributos usados para predição são chamados de **atributos preditores**.  \n",
        "\n",
        "2. Cada linha da tabela corresponde a um **exemplo ou instância**. A partir de um conjunto de** exemplos de treinamento**, um algoritmo de aprendizado de máquina constrói um **classificador** ou **modelo de classificação**.\n",
        "\n",
        "3. Um modelo de classificação pode ser visto como uma função que relaciona os atributos preditores ao atributo-alvo. O modelo aprendido a partir dos dados de treinamento **aproxima** a função real de classificação, que é uma função desconhecida.\n",
        "\n",
        "4. Cada algoritmo estima modelos com estruturas específicas. O melhor algoritmos dependerá do problema em questão."
      ]
    },
    {
      "cell_type": "markdown",
      "metadata": {
        "id": "QkyPPZVwlLQk"
      },
      "source": [
        "**TRAINING AND TEST EXAMPLES**"
      ]
    },
    {
      "cell_type": "code",
      "execution_count": 5,
      "metadata": {
        "id": "8hyzniM3WthI"
      },
      "outputs": [],
      "source": [
        "from sklearn.model_selection import train_test_split\n",
        "\n",
        "X = df.drop(columns=['class'])\n",
        "Y = df['class']\n",
        "\n",
        "# Separando os dados em treinamento(75%) e teste(25%)\n",
        "\n",
        "X_train, X_test, Y_train, Y_test = train_test_split(X, Y, test_size=0.25)\n"
      ]
    },
    {
      "cell_type": "markdown",
      "metadata": {
        "id": "0eFv-EKPnh3p"
      },
      "source": [
        "Comentários:\n",
        "\n",
        "1. Normalmente se considera um **conjunto de treinamento** usado para construir o modelo de classificação e um **conjunto de teste** independente para avaliar o desempenho preditivo do modelo construído.\n",
        "\n",
        "2. Sempre é importante avaliar em dados de teste não usados no treinamento. Para modelos complexos sempre é possível aproximar os dados de treinamento perfeitamente, i.e., aprender um modelo que não comete erros de predição para os dados de treinamento. No entanto, fazer isso pode levar a um **superajuste (ou overfitting)** dos dados de treinamento, i.e., o modelo aprende exceções dos dados que não estarão presentes nos dados de teste.\n",
        "\n",
        "3. O ideal é aprender modelos que **generalizem** bem, i.e., o modelo deve aprender características gerais do problema de classificação e ser complexo apenas o necessário."
      ]
    },
    {
      "cell_type": "markdown",
      "metadata": {
        "id": "n3i7ZNDsf8dk"
      },
      "source": [
        "### **LEARNING A DECISION TREE**"
      ]
    },
    {
      "cell_type": "markdown",
      "metadata": {
        "id": "m-fD0rurqcSW"
      },
      "source": [
        "Árvores de decisão são modelos que particionam os exemplos de treinamento usado testes sucessivos sobre os atributos preditores. A cada teste realizado, os exemplos de treinamento de uma mesma classe são separados dos demais exemplos. A classificação final é realizada nos nós terminais, associados a um classe específica, normalmente a classe majoritária entre os exemplos de treinamento que atingem o nó.  "
      ]
    },
    {
      "cell_type": "markdown",
      "metadata": {
        "id": "FFT7LlzhkOLw"
      },
      "source": [
        "**Fitting a tree**"
      ]
    },
    {
      "cell_type": "code",
      "execution_count": 6,
      "metadata": {
        "colab": {
          "base_uri": "https://localhost:8080/",
          "height": 74
        },
        "id": "ST3lKq4TBThC",
        "outputId": "9509a3f3-d013-435d-e996-a6aa03b43362"
      },
      "outputs": [
        {
          "data": {
            "text/html": [
              "<style>#sk-container-id-1 {\n",
              "  /* Definition of color scheme common for light and dark mode */\n",
              "  --sklearn-color-text: black;\n",
              "  --sklearn-color-line: gray;\n",
              "  /* Definition of color scheme for unfitted estimators */\n",
              "  --sklearn-color-unfitted-level-0: #fff5e6;\n",
              "  --sklearn-color-unfitted-level-1: #f6e4d2;\n",
              "  --sklearn-color-unfitted-level-2: #ffe0b3;\n",
              "  --sklearn-color-unfitted-level-3: chocolate;\n",
              "  /* Definition of color scheme for fitted estimators */\n",
              "  --sklearn-color-fitted-level-0: #f0f8ff;\n",
              "  --sklearn-color-fitted-level-1: #d4ebff;\n",
              "  --sklearn-color-fitted-level-2: #b3dbfd;\n",
              "  --sklearn-color-fitted-level-3: cornflowerblue;\n",
              "\n",
              "  /* Specific color for light theme */\n",
              "  --sklearn-color-text-on-default-background: var(--sg-text-color, var(--theme-code-foreground, var(--jp-content-font-color1, black)));\n",
              "  --sklearn-color-background: var(--sg-background-color, var(--theme-background, var(--jp-layout-color0, white)));\n",
              "  --sklearn-color-border-box: var(--sg-text-color, var(--theme-code-foreground, var(--jp-content-font-color1, black)));\n",
              "  --sklearn-color-icon: #696969;\n",
              "\n",
              "  @media (prefers-color-scheme: dark) {\n",
              "    /* Redefinition of color scheme for dark theme */\n",
              "    --sklearn-color-text-on-default-background: var(--sg-text-color, var(--theme-code-foreground, var(--jp-content-font-color1, white)));\n",
              "    --sklearn-color-background: var(--sg-background-color, var(--theme-background, var(--jp-layout-color0, #111)));\n",
              "    --sklearn-color-border-box: var(--sg-text-color, var(--theme-code-foreground, var(--jp-content-font-color1, white)));\n",
              "    --sklearn-color-icon: #878787;\n",
              "  }\n",
              "}\n",
              "\n",
              "#sk-container-id-1 {\n",
              "  color: var(--sklearn-color-text);\n",
              "}\n",
              "\n",
              "#sk-container-id-1 pre {\n",
              "  padding: 0;\n",
              "}\n",
              "\n",
              "#sk-container-id-1 input.sk-hidden--visually {\n",
              "  border: 0;\n",
              "  clip: rect(1px 1px 1px 1px);\n",
              "  clip: rect(1px, 1px, 1px, 1px);\n",
              "  height: 1px;\n",
              "  margin: -1px;\n",
              "  overflow: hidden;\n",
              "  padding: 0;\n",
              "  position: absolute;\n",
              "  width: 1px;\n",
              "}\n",
              "\n",
              "#sk-container-id-1 div.sk-dashed-wrapped {\n",
              "  border: 1px dashed var(--sklearn-color-line);\n",
              "  margin: 0 0.4em 0.5em 0.4em;\n",
              "  box-sizing: border-box;\n",
              "  padding-bottom: 0.4em;\n",
              "  background-color: var(--sklearn-color-background);\n",
              "}\n",
              "\n",
              "#sk-container-id-1 div.sk-container {\n",
              "  /* jupyter's `normalize.less` sets `[hidden] { display: none; }`\n",
              "     but bootstrap.min.css set `[hidden] { display: none !important; }`\n",
              "     so we also need the `!important` here to be able to override the\n",
              "     default hidden behavior on the sphinx rendered scikit-learn.org.\n",
              "     See: https://github.com/scikit-learn/scikit-learn/issues/21755 */\n",
              "  display: inline-block !important;\n",
              "  position: relative;\n",
              "}\n",
              "\n",
              "#sk-container-id-1 div.sk-text-repr-fallback {\n",
              "  display: none;\n",
              "}\n",
              "\n",
              "div.sk-parallel-item,\n",
              "div.sk-serial,\n",
              "div.sk-item {\n",
              "  /* draw centered vertical line to link estimators */\n",
              "  background-image: linear-gradient(var(--sklearn-color-text-on-default-background), var(--sklearn-color-text-on-default-background));\n",
              "  background-size: 2px 100%;\n",
              "  background-repeat: no-repeat;\n",
              "  background-position: center center;\n",
              "}\n",
              "\n",
              "/* Parallel-specific style estimator block */\n",
              "\n",
              "#sk-container-id-1 div.sk-parallel-item::after {\n",
              "  content: \"\";\n",
              "  width: 100%;\n",
              "  border-bottom: 2px solid var(--sklearn-color-text-on-default-background);\n",
              "  flex-grow: 1;\n",
              "}\n",
              "\n",
              "#sk-container-id-1 div.sk-parallel {\n",
              "  display: flex;\n",
              "  align-items: stretch;\n",
              "  justify-content: center;\n",
              "  background-color: var(--sklearn-color-background);\n",
              "  position: relative;\n",
              "}\n",
              "\n",
              "#sk-container-id-1 div.sk-parallel-item {\n",
              "  display: flex;\n",
              "  flex-direction: column;\n",
              "}\n",
              "\n",
              "#sk-container-id-1 div.sk-parallel-item:first-child::after {\n",
              "  align-self: flex-end;\n",
              "  width: 50%;\n",
              "}\n",
              "\n",
              "#sk-container-id-1 div.sk-parallel-item:last-child::after {\n",
              "  align-self: flex-start;\n",
              "  width: 50%;\n",
              "}\n",
              "\n",
              "#sk-container-id-1 div.sk-parallel-item:only-child::after {\n",
              "  width: 0;\n",
              "}\n",
              "\n",
              "/* Serial-specific style estimator block */\n",
              "\n",
              "#sk-container-id-1 div.sk-serial {\n",
              "  display: flex;\n",
              "  flex-direction: column;\n",
              "  align-items: center;\n",
              "  background-color: var(--sklearn-color-background);\n",
              "  padding-right: 1em;\n",
              "  padding-left: 1em;\n",
              "}\n",
              "\n",
              "\n",
              "/* Toggleable style: style used for estimator/Pipeline/ColumnTransformer box that is\n",
              "clickable and can be expanded/collapsed.\n",
              "- Pipeline and ColumnTransformer use this feature and define the default style\n",
              "- Estimators will overwrite some part of the style using the `sk-estimator` class\n",
              "*/\n",
              "\n",
              "/* Pipeline and ColumnTransformer style (default) */\n",
              "\n",
              "#sk-container-id-1 div.sk-toggleable {\n",
              "  /* Default theme specific background. It is overwritten whether we have a\n",
              "  specific estimator or a Pipeline/ColumnTransformer */\n",
              "  background-color: var(--sklearn-color-background);\n",
              "}\n",
              "\n",
              "/* Toggleable label */\n",
              "#sk-container-id-1 label.sk-toggleable__label {\n",
              "  cursor: pointer;\n",
              "  display: block;\n",
              "  width: 100%;\n",
              "  margin-bottom: 0;\n",
              "  padding: 0.5em;\n",
              "  box-sizing: border-box;\n",
              "  text-align: center;\n",
              "}\n",
              "\n",
              "#sk-container-id-1 label.sk-toggleable__label-arrow:before {\n",
              "  /* Arrow on the left of the label */\n",
              "  content: \"▸\";\n",
              "  float: left;\n",
              "  margin-right: 0.25em;\n",
              "  color: var(--sklearn-color-icon);\n",
              "}\n",
              "\n",
              "#sk-container-id-1 label.sk-toggleable__label-arrow:hover:before {\n",
              "  color: var(--sklearn-color-text);\n",
              "}\n",
              "\n",
              "/* Toggleable content - dropdown */\n",
              "\n",
              "#sk-container-id-1 div.sk-toggleable__content {\n",
              "  max-height: 0;\n",
              "  max-width: 0;\n",
              "  overflow: hidden;\n",
              "  text-align: left;\n",
              "  /* unfitted */\n",
              "  background-color: var(--sklearn-color-unfitted-level-0);\n",
              "}\n",
              "\n",
              "#sk-container-id-1 div.sk-toggleable__content.fitted {\n",
              "  /* fitted */\n",
              "  background-color: var(--sklearn-color-fitted-level-0);\n",
              "}\n",
              "\n",
              "#sk-container-id-1 div.sk-toggleable__content pre {\n",
              "  margin: 0.2em;\n",
              "  border-radius: 0.25em;\n",
              "  color: var(--sklearn-color-text);\n",
              "  /* unfitted */\n",
              "  background-color: var(--sklearn-color-unfitted-level-0);\n",
              "}\n",
              "\n",
              "#sk-container-id-1 div.sk-toggleable__content.fitted pre {\n",
              "  /* unfitted */\n",
              "  background-color: var(--sklearn-color-fitted-level-0);\n",
              "}\n",
              "\n",
              "#sk-container-id-1 input.sk-toggleable__control:checked~div.sk-toggleable__content {\n",
              "  /* Expand drop-down */\n",
              "  max-height: 200px;\n",
              "  max-width: 100%;\n",
              "  overflow: auto;\n",
              "}\n",
              "\n",
              "#sk-container-id-1 input.sk-toggleable__control:checked~label.sk-toggleable__label-arrow:before {\n",
              "  content: \"▾\";\n",
              "}\n",
              "\n",
              "/* Pipeline/ColumnTransformer-specific style */\n",
              "\n",
              "#sk-container-id-1 div.sk-label input.sk-toggleable__control:checked~label.sk-toggleable__label {\n",
              "  color: var(--sklearn-color-text);\n",
              "  background-color: var(--sklearn-color-unfitted-level-2);\n",
              "}\n",
              "\n",
              "#sk-container-id-1 div.sk-label.fitted input.sk-toggleable__control:checked~label.sk-toggleable__label {\n",
              "  background-color: var(--sklearn-color-fitted-level-2);\n",
              "}\n",
              "\n",
              "/* Estimator-specific style */\n",
              "\n",
              "/* Colorize estimator box */\n",
              "#sk-container-id-1 div.sk-estimator input.sk-toggleable__control:checked~label.sk-toggleable__label {\n",
              "  /* unfitted */\n",
              "  background-color: var(--sklearn-color-unfitted-level-2);\n",
              "}\n",
              "\n",
              "#sk-container-id-1 div.sk-estimator.fitted input.sk-toggleable__control:checked~label.sk-toggleable__label {\n",
              "  /* fitted */\n",
              "  background-color: var(--sklearn-color-fitted-level-2);\n",
              "}\n",
              "\n",
              "#sk-container-id-1 div.sk-label label.sk-toggleable__label,\n",
              "#sk-container-id-1 div.sk-label label {\n",
              "  /* The background is the default theme color */\n",
              "  color: var(--sklearn-color-text-on-default-background);\n",
              "}\n",
              "\n",
              "/* On hover, darken the color of the background */\n",
              "#sk-container-id-1 div.sk-label:hover label.sk-toggleable__label {\n",
              "  color: var(--sklearn-color-text);\n",
              "  background-color: var(--sklearn-color-unfitted-level-2);\n",
              "}\n",
              "\n",
              "/* Label box, darken color on hover, fitted */\n",
              "#sk-container-id-1 div.sk-label.fitted:hover label.sk-toggleable__label.fitted {\n",
              "  color: var(--sklearn-color-text);\n",
              "  background-color: var(--sklearn-color-fitted-level-2);\n",
              "}\n",
              "\n",
              "/* Estimator label */\n",
              "\n",
              "#sk-container-id-1 div.sk-label label {\n",
              "  font-family: monospace;\n",
              "  font-weight: bold;\n",
              "  display: inline-block;\n",
              "  line-height: 1.2em;\n",
              "}\n",
              "\n",
              "#sk-container-id-1 div.sk-label-container {\n",
              "  text-align: center;\n",
              "}\n",
              "\n",
              "/* Estimator-specific */\n",
              "#sk-container-id-1 div.sk-estimator {\n",
              "  font-family: monospace;\n",
              "  border: 1px dotted var(--sklearn-color-border-box);\n",
              "  border-radius: 0.25em;\n",
              "  box-sizing: border-box;\n",
              "  margin-bottom: 0.5em;\n",
              "  /* unfitted */\n",
              "  background-color: var(--sklearn-color-unfitted-level-0);\n",
              "}\n",
              "\n",
              "#sk-container-id-1 div.sk-estimator.fitted {\n",
              "  /* fitted */\n",
              "  background-color: var(--sklearn-color-fitted-level-0);\n",
              "}\n",
              "\n",
              "/* on hover */\n",
              "#sk-container-id-1 div.sk-estimator:hover {\n",
              "  /* unfitted */\n",
              "  background-color: var(--sklearn-color-unfitted-level-2);\n",
              "}\n",
              "\n",
              "#sk-container-id-1 div.sk-estimator.fitted:hover {\n",
              "  /* fitted */\n",
              "  background-color: var(--sklearn-color-fitted-level-2);\n",
              "}\n",
              "\n",
              "/* Specification for estimator info (e.g. \"i\" and \"?\") */\n",
              "\n",
              "/* Common style for \"i\" and \"?\" */\n",
              "\n",
              ".sk-estimator-doc-link,\n",
              "a:link.sk-estimator-doc-link,\n",
              "a:visited.sk-estimator-doc-link {\n",
              "  float: right;\n",
              "  font-size: smaller;\n",
              "  line-height: 1em;\n",
              "  font-family: monospace;\n",
              "  background-color: var(--sklearn-color-background);\n",
              "  border-radius: 1em;\n",
              "  height: 1em;\n",
              "  width: 1em;\n",
              "  text-decoration: none !important;\n",
              "  margin-left: 1ex;\n",
              "  /* unfitted */\n",
              "  border: var(--sklearn-color-unfitted-level-1) 1pt solid;\n",
              "  color: var(--sklearn-color-unfitted-level-1);\n",
              "}\n",
              "\n",
              ".sk-estimator-doc-link.fitted,\n",
              "a:link.sk-estimator-doc-link.fitted,\n",
              "a:visited.sk-estimator-doc-link.fitted {\n",
              "  /* fitted */\n",
              "  border: var(--sklearn-color-fitted-level-1) 1pt solid;\n",
              "  color: var(--sklearn-color-fitted-level-1);\n",
              "}\n",
              "\n",
              "/* On hover */\n",
              "div.sk-estimator:hover .sk-estimator-doc-link:hover,\n",
              ".sk-estimator-doc-link:hover,\n",
              "div.sk-label-container:hover .sk-estimator-doc-link:hover,\n",
              ".sk-estimator-doc-link:hover {\n",
              "  /* unfitted */\n",
              "  background-color: var(--sklearn-color-unfitted-level-3);\n",
              "  color: var(--sklearn-color-background);\n",
              "  text-decoration: none;\n",
              "}\n",
              "\n",
              "div.sk-estimator.fitted:hover .sk-estimator-doc-link.fitted:hover,\n",
              ".sk-estimator-doc-link.fitted:hover,\n",
              "div.sk-label-container:hover .sk-estimator-doc-link.fitted:hover,\n",
              ".sk-estimator-doc-link.fitted:hover {\n",
              "  /* fitted */\n",
              "  background-color: var(--sklearn-color-fitted-level-3);\n",
              "  color: var(--sklearn-color-background);\n",
              "  text-decoration: none;\n",
              "}\n",
              "\n",
              "/* Span, style for the box shown on hovering the info icon */\n",
              ".sk-estimator-doc-link span {\n",
              "  display: none;\n",
              "  z-index: 9999;\n",
              "  position: relative;\n",
              "  font-weight: normal;\n",
              "  right: .2ex;\n",
              "  padding: .5ex;\n",
              "  margin: .5ex;\n",
              "  width: min-content;\n",
              "  min-width: 20ex;\n",
              "  max-width: 50ex;\n",
              "  color: var(--sklearn-color-text);\n",
              "  box-shadow: 2pt 2pt 4pt #999;\n",
              "  /* unfitted */\n",
              "  background: var(--sklearn-color-unfitted-level-0);\n",
              "  border: .5pt solid var(--sklearn-color-unfitted-level-3);\n",
              "}\n",
              "\n",
              ".sk-estimator-doc-link.fitted span {\n",
              "  /* fitted */\n",
              "  background: var(--sklearn-color-fitted-level-0);\n",
              "  border: var(--sklearn-color-fitted-level-3);\n",
              "}\n",
              "\n",
              ".sk-estimator-doc-link:hover span {\n",
              "  display: block;\n",
              "}\n",
              "\n",
              "/* \"?\"-specific style due to the `<a>` HTML tag */\n",
              "\n",
              "#sk-container-id-1 a.estimator_doc_link {\n",
              "  float: right;\n",
              "  font-size: 1rem;\n",
              "  line-height: 1em;\n",
              "  font-family: monospace;\n",
              "  background-color: var(--sklearn-color-background);\n",
              "  border-radius: 1rem;\n",
              "  height: 1rem;\n",
              "  width: 1rem;\n",
              "  text-decoration: none;\n",
              "  /* unfitted */\n",
              "  color: var(--sklearn-color-unfitted-level-1);\n",
              "  border: var(--sklearn-color-unfitted-level-1) 1pt solid;\n",
              "}\n",
              "\n",
              "#sk-container-id-1 a.estimator_doc_link.fitted {\n",
              "  /* fitted */\n",
              "  border: var(--sklearn-color-fitted-level-1) 1pt solid;\n",
              "  color: var(--sklearn-color-fitted-level-1);\n",
              "}\n",
              "\n",
              "/* On hover */\n",
              "#sk-container-id-1 a.estimator_doc_link:hover {\n",
              "  /* unfitted */\n",
              "  background-color: var(--sklearn-color-unfitted-level-3);\n",
              "  color: var(--sklearn-color-background);\n",
              "  text-decoration: none;\n",
              "}\n",
              "\n",
              "#sk-container-id-1 a.estimator_doc_link.fitted:hover {\n",
              "  /* fitted */\n",
              "  background-color: var(--sklearn-color-fitted-level-3);\n",
              "}\n",
              "</style><div id=\"sk-container-id-1\" class=\"sk-top-container\"><div class=\"sk-text-repr-fallback\"><pre>DecisionTreeClassifier(criterion=&#x27;entropy&#x27;, max_depth=3, min_samples_leaf=30)</pre><b>In a Jupyter environment, please rerun this cell to show the HTML representation or trust the notebook. <br />On GitHub, the HTML representation is unable to render, please try loading this page with nbviewer.org.</b></div><div class=\"sk-container\" hidden><div class=\"sk-item\"><div class=\"sk-estimator fitted sk-toggleable\"><input class=\"sk-toggleable__control sk-hidden--visually\" id=\"sk-estimator-id-1\" type=\"checkbox\" checked><label for=\"sk-estimator-id-1\" class=\"sk-toggleable__label fitted sk-toggleable__label-arrow fitted\">&nbsp;&nbsp;DecisionTreeClassifier<a class=\"sk-estimator-doc-link fitted\" rel=\"noreferrer\" target=\"_blank\" href=\"https://scikit-learn.org/1.5/modules/generated/sklearn.tree.DecisionTreeClassifier.html\">?<span>Documentation for DecisionTreeClassifier</span></a><span class=\"sk-estimator-doc-link fitted\">i<span>Fitted</span></span></label><div class=\"sk-toggleable__content fitted\"><pre>DecisionTreeClassifier(criterion=&#x27;entropy&#x27;, max_depth=3, min_samples_leaf=30)</pre></div> </div></div></div></div>"
            ],
            "text/plain": [
              "DecisionTreeClassifier(criterion='entropy', max_depth=3, min_samples_leaf=30)"
            ]
          },
          "execution_count": 6,
          "metadata": {},
          "output_type": "execute_result"
        }
      ],
      "source": [
        "from sklearn.tree import DecisionTreeClassifier\n",
        "\n",
        "dt = DecisionTreeClassifier(criterion = 'entropy',max_depth = 3,min_samples_leaf = 30)\n",
        "\n",
        "dt.fit(X_train, Y_train)\n",
        "\n",
        "\n"
      ]
    },
    {
      "cell_type": "markdown",
      "metadata": {
        "id": "i0kmMQXWrtty"
      },
      "source": [
        "Comentários:\n",
        "\n",
        "1. Cada algoritmo de aprendizado pode estar associados a **hiperparâmetros** específicos que impactam na estrutura do modelo aprendido. No código acima, por exemplo, o hiperparâmetro max-depth controla a **profundidade máxima** da árvore de decisão aprendida.\n",
        "\n",
        "2. Um valor muito baixo para profundidade da árvore pode gerar um modelo muito simples, não suficiente para aproximar bem a função real do problema de classificação. Por outro lado, um valor muito alto pode resultado em overfitting dos dados de treinamento.\n",
        "\n",
        "3. Outros algoritmos também apresentam hiperparâmetros que de uma forma ou de outra controlam a **complexidade** dos modelos de classificação gerados."
      ]
    },
    {
      "cell_type": "markdown",
      "metadata": {
        "id": "kJL1TXR7BCOo"
      },
      "source": [
        "**Code to visualize the tree**"
      ]
    },
    {
      "cell_type": "code",
      "execution_count": 7,
      "metadata": {
        "colab": {
          "base_uri": "https://localhost:8080/",
          "height": 406
        },
        "id": "lIpX1RL9hiys",
        "outputId": "7c69159c-ae27-437f-a74d-e3d1662fe126"
      },
      "outputs": [
        {
          "data": {
            "image/png": "[encoded data removed]",
            "text/plain": [
              "<Figure size 640x480 with 1 Axes>"
            ]
          },
          "metadata": {},
          "output_type": "display_data"
        }
      ],
      "source": [
        "from sklearn import tree\n",
        "\n",
        "\n",
        "tree.plot_tree(dt, feature_names = X.columns, class_names=['negative', \"positive\"],filled = True);\n"
      ]
    },
    {
      "cell_type": "markdown",
      "metadata": {
        "id": "8bwG4GT3sk7e"
      },
      "source": [
        "Comentários:\n",
        "\n",
        "1. Um teste na árvore de decisão cria um plano de separação no espaço de exemplos. Dois testes aplicados de forma sucessiva cria um retângulo delimitando uma região de exemplos, três testes definem um cubo, quatro testes em diante forma o que chamamos de hipercubos.\n",
        "\n",
        "2. Por essa razão, as superfíceis de seraração de uma árvore de decisão em geral são muito simples, que nem sempre são suficientes para problemas com **fronteiras de classe** mais complexas.\n",
        "\n",
        "3. No entanto, é um **modelo interpretável** e que pode produzir insights interessantes sobre o problema em mãos. Cada nó terminal pode ser considerado uma regra local, i.e., um conhecimento válido para um conjunto específico de instâncias. Cada regra pod inclusive ser avaliada de forma separada, usando métricas de confiança e suporte.\n",
        "\n",
        "4. Probabilidades de classe podem ser estimadas a partir a distribuição de classes dos exemplos de treinamento que alcançam o nó. Por exemplo, se um dado nó apresenta 50 exemplos da classe positiva e 18 exemplos da classe negativa, então a probabilidade estimada para a classe positiva seria 50/(50+18) ~ 0.73. Ou seja, caso um novo exemplo a ser predito alcance esse nó terminal, podemos dizer que a probabilidade estimada do exemplo pertencer a classe positiva é de 0.73. Essa probabilidade se chama **probabilidade condicional ou probabilidade à posteriori**, i.e., probabilidade de classe condicionada pelos valores dos atributos do exemplo (P(Y|X)).\n",
        "\n",
        "5. As probabilidades condicionais normalmente são diferentes das **probabilides à priori**, que são estimadas pela frequencia de exemplos de cada classe na base de treinamento."
      ]
    },
    {
      "cell_type": "markdown",
      "metadata": {
        "id": "LDdcIMEeXQcH"
      },
      "source": [
        "### **TESTING THE DECISION TREE**"
      ]
    },
    {
      "cell_type": "markdown",
      "metadata": {
        "id": "ZBjFQGnhVXAD"
      },
      "source": [
        "--- Computing the model accuracy"
      ]
    },
    {
      "cell_type": "code",
      "execution_count": 10,
      "metadata": {
        "colab": {
          "base_uri": "https://localhost:8080/"
        },
        "id": "wUmAozBvQEkr",
        "outputId": "2387a838-ad17-4513-e91c-0da50edb6739"
      },
      "outputs": [
        {
          "name": "stdout",
          "output_type": "stream",
          "text": [
            "Acurácia dos dados de teste  :  0.6614583333333334\n"
          ]
        }
      ],
      "source": [
        "from sklearn.metrics import accuracy_score\n",
        "\n",
        "Yhat = dt.predict(X_test)\n",
        "\n",
        "print(\"Acurácia dos dados de teste  : \", accuracy_score(Y_test,Yhat))"
      ]
    },
    {
      "cell_type": "markdown",
      "metadata": {
        "id": "3s7SFKqMuomE"
      },
      "source": [
        "Observação: A **acurária** simplesmente calcula a proporção de acertos total do modelo para os dados de teste."
      ]
    },
    {
      "cell_type": "markdown",
      "metadata": {
        "id": "cOF73NlWVS59"
      },
      "source": [
        "---- Confusion matrix"
      ]
    },
    {
      "cell_type": "markdown",
      "metadata": {
        "id": "K3YhOMlnwqKk"
      },
      "source": [
        "A **matrix de confusão** apresenta os acertos e erros do modelo nos dados usados para teste. Também pod ser chamada de **matriz de contingência**."
      ]
    },
    {
      "cell_type": "code",
      "execution_count": 9,
      "metadata": {
        "colab": {
          "base_uri": "https://localhost:8080/",
          "height": 450
        },
        "id": "Mtc8pgWXUCVT",
        "outputId": "7cd4d6fc-a91c-4988-9049-c0c116dc1f23"
      },
      "outputs": [
        {
          "data": {
            "image/png": "[encoded data removed]",
            "text/plain": [
              "<Figure size 640x480 with 2 Axes>"
            ]
          },
          "metadata": {},
          "output_type": "display_data"
        }
      ],
      "source": [
        "from sklearn.metrics import confusion_matrix, ConfusionMatrixDisplay\n",
        "import matplotlib.pyplot as plt\n",
        "\n",
        "# Displaying the confusion matrix\n",
        "\n",
        "cm = confusion_matrix(Y_test, Yhat, labels=dt.classes_)\n",
        "\n",
        "disp = ConfusionMatrixDisplay(confusion_matrix=cm,display_labels=dt.classes_)\n",
        "\n",
        "disp.plot()\n",
        "\n",
        "plt.show()"
      ]
    },
    {
      "cell_type": "markdown",
      "metadata": {
        "id": "vwV2iDcGw4GH"
      },
      "source": [
        "Comentários:\n",
        "\n",
        "1. Em problemas de classificação binária, podemos distinguir quatro casos:\n",
        "\n",
        "(a) Verdadeiros positivos (VP): exemplos de teste da classe positiva classificados corretamente pelo modelo como sendo da classe positiva;  \n",
        "\n",
        "(b) Verdadeiros negativos (VN): exemplos de teste da classe negativa classificados corretamente pelo modelo como sendo da classe negativa;\n",
        "\n",
        "(c) Falsos positivos (FP): exemplos de teste da classe negativa classificados erroneamente pelo modelo como sendo da classe positiva;\n",
        "\n",
        "(d) Falsos negativos (FN): exemplos de teste da classe positiva classificados erroneamente pelo modelo como sendo da classe negativa.\n",
        "\n",
        "2. Em muitos casos, como no diagnóstivo médico, a classe positiva é a classe de maior interesse, uma vez que um falso negativo tende a ter consequencias muito mais negativas em comparação com um falso positivo (que seria \"apenas\" um falso alarme).\n",
        "\n",
        "3. Note que o numero de predições positivas do modelo é o numero de VP + FP. Em muitas situações, é possivel forçar modelos que apresentem uma taxa maior de predições positivas, visando aumentos a taxa de VP, mesmo a despeito de um acréscimo na taxa de FP. Esse mecanismo é a base da análise da curva ROC."
      ]
    },
    {
      "cell_type": "markdown",
      "metadata": {
        "id": "2_qTMyoJXw1t"
      },
      "source": [
        "### **LEARNING A RANDOM FOREST MODEL**"
      ]
    },
    {
      "cell_type": "markdown",
      "metadata": {
        "id": "ffhE7Jliyatl"
      },
      "source": [
        "Random Forests são modelo que combinam várias (possivelmente centenas) árvores de decisão, visando aumento do desempenho preditivo. Cada árvore de decisão é treinada usando um subconjunto de exemplos e atributos diferentes. No final, teremos umn comitê de árvores de decisão que serão combinadas para predizer a classe de cada exemplo de teste. A predição é feita considerando a classe mais frequente entre as predições das árvores de decisão do comitê;"
      ]
    },
    {
      "cell_type": "code",
      "execution_count": 12,
      "metadata": {
        "colab": {
          "base_uri": "https://localhost:8080/",
          "height": 74
        },
        "id": "E0vz77SSn1FL",
        "outputId": "9d9ac217-978e-443f-e326-8bfe80a7a590"
      },
      "outputs": [
        {
          "data": {
            "text/html": [
              "<style>#sk-container-id-2 {\n",
              "  /* Definition of color scheme common for light and dark mode */\n",
              "  --sklearn-color-text: black;\n",
              "  --sklearn-color-line: gray;\n",
              "  /* Definition of color scheme for unfitted estimators */\n",
              "  --sklearn-color-unfitted-level-0: #fff5e6;\n",
              "  --sklearn-color-unfitted-level-1: #f6e4d2;\n",
              "  --sklearn-color-unfitted-level-2: #ffe0b3;\n",
              "  --sklearn-color-unfitted-level-3: chocolate;\n",
              "  /* Definition of color scheme for fitted estimators */\n",
              "  --sklearn-color-fitted-level-0: #f0f8ff;\n",
              "  --sklearn-color-fitted-level-1: #d4ebff;\n",
              "  --sklearn-color-fitted-level-2: #b3dbfd;\n",
              "  --sklearn-color-fitted-level-3: cornflowerblue;\n",
              "\n",
              "  /* Specific color for light theme */\n",
              "  --sklearn-color-text-on-default-background: var(--sg-text-color, var(--theme-code-foreground, var(--jp-content-font-color1, black)));\n",
              "  --sklearn-color-background: var(--sg-background-color, var(--theme-background, var(--jp-layout-color0, white)));\n",
              "  --sklearn-color-border-box: var(--sg-text-color, var(--theme-code-foreground, var(--jp-content-font-color1, black)));\n",
              "  --sklearn-color-icon: #696969;\n",
              "\n",
              "  @media (prefers-color-scheme: dark) {\n",
              "    /* Redefinition of color scheme for dark theme */\n",
              "    --sklearn-color-text-on-default-background: var(--sg-text-color, var(--theme-code-foreground, var(--jp-content-font-color1, white)));\n",
              "    --sklearn-color-background: var(--sg-background-color, var(--theme-background, var(--jp-layout-color0, #111)));\n",
              "    --sklearn-color-border-box: var(--sg-text-color, var(--theme-code-foreground, var(--jp-content-font-color1, white)));\n",
              "    --sklearn-color-icon: #878787;\n",
              "  }\n",
              "}\n",
              "\n",
              "#sk-container-id-2 {\n",
              "  color: var(--sklearn-color-text);\n",
              "}\n",
              "\n",
              "#sk-container-id-2 pre {\n",
              "  padding: 0;\n",
              "}\n",
              "\n",
              "#sk-container-id-2 input.sk-hidden--visually {\n",
              "  border: 0;\n",
              "  clip: rect(1px 1px 1px 1px);\n",
              "  clip: rect(1px, 1px, 1px, 1px);\n",
              "  height: 1px;\n",
              "  margin: -1px;\n",
              "  overflow: hidden;\n",
              "  padding: 0;\n",
              "  position: absolute;\n",
              "  width: 1px;\n",
              "}\n",
              "\n",
              "#sk-container-id-2 div.sk-dashed-wrapped {\n",
              "  border: 1px dashed var(--sklearn-color-line);\n",
              "  margin: 0 0.4em 0.5em 0.4em;\n",
              "  box-sizing: border-box;\n",
              "  padding-bottom: 0.4em;\n",
              "  background-color: var(--sklearn-color-background);\n",
              "}\n",
              "\n",
              "#sk-container-id-2 div.sk-container {\n",
              "  /* jupyter's `normalize.less` sets `[hidden] { display: none; }`\n",
              "     but bootstrap.min.css set `[hidden] { display: none !important; }`\n",
              "     so we also need the `!important` here to be able to override the\n",
              "     default hidden behavior on the sphinx rendered scikit-learn.org.\n",
              "     See: https://github.com/scikit-learn/scikit-learn/issues/21755 */\n",
              "  display: inline-block !important;\n",
              "  position: relative;\n",
              "}\n",
              "\n",
              "#sk-container-id-2 div.sk-text-repr-fallback {\n",
              "  display: none;\n",
              "}\n",
              "\n",
              "div.sk-parallel-item,\n",
              "div.sk-serial,\n",
              "div.sk-item {\n",
              "  /* draw centered vertical line to link estimators */\n",
              "  background-image: linear-gradient(var(--sklearn-color-text-on-default-background), var(--sklearn-color-text-on-default-background));\n",
              "  background-size: 2px 100%;\n",
              "  background-repeat: no-repeat;\n",
              "  background-position: center center;\n",
              "}\n",
              "\n",
              "/* Parallel-specific style estimator block */\n",
              "\n",
              "#sk-container-id-2 div.sk-parallel-item::after {\n",
              "  content: \"\";\n",
              "  width: 100%;\n",
              "  border-bottom: 2px solid var(--sklearn-color-text-on-default-background);\n",
              "  flex-grow: 1;\n",
              "}\n",
              "\n",
              "#sk-container-id-2 div.sk-parallel {\n",
              "  display: flex;\n",
              "  align-items: stretch;\n",
              "  justify-content: center;\n",
              "  background-color: var(--sklearn-color-background);\n",
              "  position: relative;\n",
              "}\n",
              "\n",
              "#sk-container-id-2 div.sk-parallel-item {\n",
              "  display: flex;\n",
              "  flex-direction: column;\n",
              "}\n",
              "\n",
              "#sk-container-id-2 div.sk-parallel-item:first-child::after {\n",
              "  align-self: flex-end;\n",
              "  width: 50%;\n",
              "}\n",
              "\n",
              "#sk-container-id-2 div.sk-parallel-item:last-child::after {\n",
              "  align-self: flex-start;\n",
              "  width: 50%;\n",
              "}\n",
              "\n",
              "#sk-container-id-2 div.sk-parallel-item:only-child::after {\n",
              "  width: 0;\n",
              "}\n",
              "\n",
              "/* Serial-specific style estimator block */\n",
              "\n",
              "#sk-container-id-2 div.sk-serial {\n",
              "  display: flex;\n",
              "  flex-direction: column;\n",
              "  align-items: center;\n",
              "  background-color: var(--sklearn-color-background);\n",
              "  padding-right: 1em;\n",
              "  padding-left: 1em;\n",
              "}\n",
              "\n",
              "\n",
              "/* Toggleable style: style used for estimator/Pipeline/ColumnTransformer box that is\n",
              "clickable and can be expanded/collapsed.\n",
              "- Pipeline and ColumnTransformer use this feature and define the default style\n",
              "- Estimators will overwrite some part of the style using the `sk-estimator` class\n",
              "*/\n",
              "\n",
              "/* Pipeline and ColumnTransformer style (default) */\n",
              "\n",
              "#sk-container-id-2 div.sk-toggleable {\n",
              "  /* Default theme specific background. It is overwritten whether we have a\n",
              "  specific estimator or a Pipeline/ColumnTransformer */\n",
              "  background-color: var(--sklearn-color-background);\n",
              "}\n",
              "\n",
              "/* Toggleable label */\n",
              "#sk-container-id-2 label.sk-toggleable__label {\n",
              "  cursor: pointer;\n",
              "  display: block;\n",
              "  width: 100%;\n",
              "  margin-bottom: 0;\n",
              "  padding: 0.5em;\n",
              "  box-sizing: border-box;\n",
              "  text-align: center;\n",
              "}\n",
              "\n",
              "#sk-container-id-2 label.sk-toggleable__label-arrow:before {\n",
              "  /* Arrow on the left of the label */\n",
              "  content: \"▸\";\n",
              "  float: left;\n",
              "  margin-right: 0.25em;\n",
              "  color: var(--sklearn-color-icon);\n",
              "}\n",
              "\n",
              "#sk-container-id-2 label.sk-toggleable__label-arrow:hover:before {\n",
              "  color: var(--sklearn-color-text);\n",
              "}\n",
              "\n",
              "/* Toggleable content - dropdown */\n",
              "\n",
              "#sk-container-id-2 div.sk-toggleable__content {\n",
              "  max-height: 0;\n",
              "  max-width: 0;\n",
              "  overflow: hidden;\n",
              "  text-align: left;\n",
              "  /* unfitted */\n",
              "  background-color: var(--sklearn-color-unfitted-level-0);\n",
              "}\n",
              "\n",
              "#sk-container-id-2 div.sk-toggleable__content.fitted {\n",
              "  /* fitted */\n",
              "  background-color: var(--sklearn-color-fitted-level-0);\n",
              "}\n",
              "\n",
              "#sk-container-id-2 div.sk-toggleable__content pre {\n",
              "  margin: 0.2em;\n",
              "  border-radius: 0.25em;\n",
              "  color: var(--sklearn-color-text);\n",
              "  /* unfitted */\n",
              "  background-color: var(--sklearn-color-unfitted-level-0);\n",
              "}\n",
              "\n",
              "#sk-container-id-2 div.sk-toggleable__content.fitted pre {\n",
              "  /* unfitted */\n",
              "  background-color: var(--sklearn-color-fitted-level-0);\n",
              "}\n",
              "\n",
              "#sk-container-id-2 input.sk-toggleable__control:checked~div.sk-toggleable__content {\n",
              "  /* Expand drop-down */\n",
              "  max-height: 200px;\n",
              "  max-width: 100%;\n",
              "  overflow: auto;\n",
              "}\n",
              "\n",
              "#sk-container-id-2 input.sk-toggleable__control:checked~label.sk-toggleable__label-arrow:before {\n",
              "  content: \"▾\";\n",
              "}\n",
              "\n",
              "/* Pipeline/ColumnTransformer-specific style */\n",
              "\n",
              "#sk-container-id-2 div.sk-label input.sk-toggleable__control:checked~label.sk-toggleable__label {\n",
              "  color: var(--sklearn-color-text);\n",
              "  background-color: var(--sklearn-color-unfitted-level-2);\n",
              "}\n",
              "\n",
              "#sk-container-id-2 div.sk-label.fitted input.sk-toggleable__control:checked~label.sk-toggleable__label {\n",
              "  background-color: var(--sklearn-color-fitted-level-2);\n",
              "}\n",
              "\n",
              "/* Estimator-specific style */\n",
              "\n",
              "/* Colorize estimator box */\n",
              "#sk-container-id-2 div.sk-estimator input.sk-toggleable__control:checked~label.sk-toggleable__label {\n",
              "  /* unfitted */\n",
              "  background-color: var(--sklearn-color-unfitted-level-2);\n",
              "}\n",
              "\n",
              "#sk-container-id-2 div.sk-estimator.fitted input.sk-toggleable__control:checked~label.sk-toggleable__label {\n",
              "  /* fitted */\n",
              "  background-color: var(--sklearn-color-fitted-level-2);\n",
              "}\n",
              "\n",
              "#sk-container-id-2 div.sk-label label.sk-toggleable__label,\n",
              "#sk-container-id-2 div.sk-label label {\n",
              "  /* The background is the default theme color */\n",
              "  color: var(--sklearn-color-text-on-default-background);\n",
              "}\n",
              "\n",
              "/* On hover, darken the color of the background */\n",
              "#sk-container-id-2 div.sk-label:hover label.sk-toggleable__label {\n",
              "  color: var(--sklearn-color-text);\n",
              "  background-color: var(--sklearn-color-unfitted-level-2);\n",
              "}\n",
              "\n",
              "/* Label box, darken color on hover, fitted */\n",
              "#sk-container-id-2 div.sk-label.fitted:hover label.sk-toggleable__label.fitted {\n",
              "  color: var(--sklearn-color-text);\n",
              "  background-color: var(--sklearn-color-fitted-level-2);\n",
              "}\n",
              "\n",
              "/* Estimator label */\n",
              "\n",
              "#sk-container-id-2 div.sk-label label {\n",
              "  font-family: monospace;\n",
              "  font-weight: bold;\n",
              "  display: inline-block;\n",
              "  line-height: 1.2em;\n",
              "}\n",
              "\n",
              "#sk-container-id-2 div.sk-label-container {\n",
              "  text-align: center;\n",
              "}\n",
              "\n",
              "/* Estimator-specific */\n",
              "#sk-container-id-2 div.sk-estimator {\n",
              "  font-family: monospace;\n",
              "  border: 1px dotted var(--sklearn-color-border-box);\n",
              "  border-radius: 0.25em;\n",
              "  box-sizing: border-box;\n",
              "  margin-bottom: 0.5em;\n",
              "  /* unfitted */\n",
              "  background-color: var(--sklearn-color-unfitted-level-0);\n",
              "}\n",
              "\n",
              "#sk-container-id-2 div.sk-estimator.fitted {\n",
              "  /* fitted */\n",
              "  background-color: var(--sklearn-color-fitted-level-0);\n",
              "}\n",
              "\n",
              "/* on hover */\n",
              "#sk-container-id-2 div.sk-estimator:hover {\n",
              "  /* unfitted */\n",
              "  background-color: var(--sklearn-color-unfitted-level-2);\n",
              "}\n",
              "\n",
              "#sk-container-id-2 div.sk-estimator.fitted:hover {\n",
              "  /* fitted */\n",
              "  background-color: var(--sklearn-color-fitted-level-2);\n",
              "}\n",
              "\n",
              "/* Specification for estimator info (e.g. \"i\" and \"?\") */\n",
              "\n",
              "/* Common style for \"i\" and \"?\" */\n",
              "\n",
              ".sk-estimator-doc-link,\n",
              "a:link.sk-estimator-doc-link,\n",
              "a:visited.sk-estimator-doc-link {\n",
              "  float: right;\n",
              "  font-size: smaller;\n",
              "  line-height: 1em;\n",
              "  font-family: monospace;\n",
              "  background-color: var(--sklearn-color-background);\n",
              "  border-radius: 1em;\n",
              "  height: 1em;\n",
              "  width: 1em;\n",
              "  text-decoration: none !important;\n",
              "  margin-left: 1ex;\n",
              "  /* unfitted */\n",
              "  border: var(--sklearn-color-unfitted-level-1) 1pt solid;\n",
              "  color: var(--sklearn-color-unfitted-level-1);\n",
              "}\n",
              "\n",
              ".sk-estimator-doc-link.fitted,\n",
              "a:link.sk-estimator-doc-link.fitted,\n",
              "a:visited.sk-estimator-doc-link.fitted {\n",
              "  /* fitted */\n",
              "  border: var(--sklearn-color-fitted-level-1) 1pt solid;\n",
              "  color: var(--sklearn-color-fitted-level-1);\n",
              "}\n",
              "\n",
              "/* On hover */\n",
              "div.sk-estimator:hover .sk-estimator-doc-link:hover,\n",
              ".sk-estimator-doc-link:hover,\n",
              "div.sk-label-container:hover .sk-estimator-doc-link:hover,\n",
              ".sk-estimator-doc-link:hover {\n",
              "  /* unfitted */\n",
              "  background-color: var(--sklearn-color-unfitted-level-3);\n",
              "  color: var(--sklearn-color-background);\n",
              "  text-decoration: none;\n",
              "}\n",
              "\n",
              "div.sk-estimator.fitted:hover .sk-estimator-doc-link.fitted:hover,\n",
              ".sk-estimator-doc-link.fitted:hover,\n",
              "div.sk-label-container:hover .sk-estimator-doc-link.fitted:hover,\n",
              ".sk-estimator-doc-link.fitted:hover {\n",
              "  /* fitted */\n",
              "  background-color: var(--sklearn-color-fitted-level-3);\n",
              "  color: var(--sklearn-color-background);\n",
              "  text-decoration: none;\n",
              "}\n",
              "\n",
              "/* Span, style for the box shown on hovering the info icon */\n",
              ".sk-estimator-doc-link span {\n",
              "  display: none;\n",
              "  z-index: 9999;\n",
              "  position: relative;\n",
              "  font-weight: normal;\n",
              "  right: .2ex;\n",
              "  padding: .5ex;\n",
              "  margin: .5ex;\n",
              "  width: min-content;\n",
              "  min-width: 20ex;\n",
              "  max-width: 50ex;\n",
              "  color: var(--sklearn-color-text);\n",
              "  box-shadow: 2pt 2pt 4pt #999;\n",
              "  /* unfitted */\n",
              "  background: var(--sklearn-color-unfitted-level-0);\n",
              "  border: .5pt solid var(--sklearn-color-unfitted-level-3);\n",
              "}\n",
              "\n",
              ".sk-estimator-doc-link.fitted span {\n",
              "  /* fitted */\n",
              "  background: var(--sklearn-color-fitted-level-0);\n",
              "  border: var(--sklearn-color-fitted-level-3);\n",
              "}\n",
              "\n",
              ".sk-estimator-doc-link:hover span {\n",
              "  display: block;\n",
              "}\n",
              "\n",
              "/* \"?\"-specific style due to the `<a>` HTML tag */\n",
              "\n",
              "#sk-container-id-2 a.estimator_doc_link {\n",
              "  float: right;\n",
              "  font-size: 1rem;\n",
              "  line-height: 1em;\n",
              "  font-family: monospace;\n",
              "  background-color: var(--sklearn-color-background);\n",
              "  border-radius: 1rem;\n",
              "  height: 1rem;\n",
              "  width: 1rem;\n",
              "  text-decoration: none;\n",
              "  /* unfitted */\n",
              "  color: var(--sklearn-color-unfitted-level-1);\n",
              "  border: var(--sklearn-color-unfitted-level-1) 1pt solid;\n",
              "}\n",
              "\n",
              "#sk-container-id-2 a.estimator_doc_link.fitted {\n",
              "  /* fitted */\n",
              "  border: var(--sklearn-color-fitted-level-1) 1pt solid;\n",
              "  color: var(--sklearn-color-fitted-level-1);\n",
              "}\n",
              "\n",
              "/* On hover */\n",
              "#sk-container-id-2 a.estimator_doc_link:hover {\n",
              "  /* unfitted */\n",
              "  background-color: var(--sklearn-color-unfitted-level-3);\n",
              "  color: var(--sklearn-color-background);\n",
              "  text-decoration: none;\n",
              "}\n",
              "\n",
              "#sk-container-id-2 a.estimator_doc_link.fitted:hover {\n",
              "  /* fitted */\n",
              "  background-color: var(--sklearn-color-fitted-level-3);\n",
              "}\n",
              "</style><div id=\"sk-container-id-2\" class=\"sk-top-container\"><div class=\"sk-text-repr-fallback\"><pre>RandomForestClassifier(max_features=3, n_estimators=200)</pre><b>In a Jupyter environment, please rerun this cell to show the HTML representation or trust the notebook. <br />On GitHub, the HTML representation is unable to render, please try loading this page with nbviewer.org.</b></div><div class=\"sk-container\" hidden><div class=\"sk-item\"><div class=\"sk-estimator fitted sk-toggleable\"><input class=\"sk-toggleable__control sk-hidden--visually\" id=\"sk-estimator-id-2\" type=\"checkbox\" checked><label for=\"sk-estimator-id-2\" class=\"sk-toggleable__label fitted sk-toggleable__label-arrow fitted\">&nbsp;&nbsp;RandomForestClassifier<a class=\"sk-estimator-doc-link fitted\" rel=\"noreferrer\" target=\"_blank\" href=\"https://scikit-learn.org/1.5/modules/generated/sklearn.ensemble.RandomForestClassifier.html\">?<span>Documentation for RandomForestClassifier</span></a><span class=\"sk-estimator-doc-link fitted\">i<span>Fitted</span></span></label><div class=\"sk-toggleable__content fitted\"><pre>RandomForestClassifier(max_features=3, n_estimators=200)</pre></div> </div></div></div></div>"
            ],
            "text/plain": [
              "RandomForestClassifier(max_features=3, n_estimators=200)"
            ]
          },
          "execution_count": 12,
          "metadata": {},
          "output_type": "execute_result"
        }
      ],
      "source": [
        "\n",
        "from sklearn.ensemble import RandomForestClassifier\n",
        "\n",
        "rf = RandomForestClassifier(n_estimators = 200, max_features = 3)\n",
        "\n",
        "rf.fit(X_train, Y_train)"
      ]
    },
    {
      "cell_type": "markdown",
      "metadata": {
        "id": "iLfvGfoAZS5d"
      },
      "source": [
        "--- INSPÉCTING THE FEATURE IMPORTANCE"
      ]
    },
    {
      "cell_type": "code",
      "execution_count": 13,
      "metadata": {
        "colab": {
          "base_uri": "https://localhost:8080/",
          "height": 487
        },
        "id": "bPFbjJ30pUhB",
        "outputId": "69f22939-cab5-4a00-caa5-9f77ae0c5a2a"
      },
      "outputs": [
        {
          "data": {
            "image/png": "[encoded data removed]",
            "text/plain": [
              "<Figure size 640x480 with 1 Axes>"
            ]
          },
          "metadata": {},
          "output_type": "display_data"
        }
      ],
      "source": [
        "from sklearn.inspection import permutation_importance\n",
        "import matplotlib.pyplot as plt\n",
        "\n",
        "result = permutation_importance(rf, X_test, Y_test,n_repeats=30, random_state=0)\n",
        "\n",
        "forest_importances = pd.Series(result.importances_mean, index=X.columns)\n",
        "\n",
        "fig, ax = plt.subplots()\n",
        "\n",
        "forest_importances.plot.bar(yerr=result.importances_std, ax=ax)\n",
        "\n",
        "ax.set_title(\"Feature importances using permutation on full model\")\n",
        "ax.set_ylabel(\"Mean accuracy decrease\")\n",
        "fig.tight_layout()\n",
        "plt.show()"
      ]
    },
    {
      "cell_type": "markdown",
      "metadata": {
        "id": "17QD5-2yzApq"
      },
      "source": [
        "Comentários:\n",
        "\n",
        "1. Cada árvore de decisão do RF é um modelo fraco globalmente mas \"possivelmente\" bom localmente. A combinação de vários modelos locais é a aposta dos modelos de RF, assim como vários outros métodos de comitês (ou ensembles).\n",
        "\n",
        "2. Não faz tando sentido inspecionar cada árvore de decisão do comitê, umavez que são fracas e muitas. O modelo de RF não é diretamente interpretável, o que requer métodos de explicabilidade como o gráfico de Feature Importance acima."
      ]
    },
    {
      "cell_type": "markdown",
      "metadata": {
        "id": "F_GTGP9LYfC5"
      },
      "source": [
        "### **TESTING THE RANDOM FOREST MODEL**"
      ]
    },
    {
      "cell_type": "markdown",
      "metadata": {
        "id": "kao58t2GlpIt"
      },
      "source": []
    },
    {
      "cell_type": "markdown",
      "metadata": {
        "id": "5zi20nPtX8jh"
      },
      "source": [
        "--- Computing the model accuracy"
      ]
    },
    {
      "cell_type": "code",
      "execution_count": 14,
      "metadata": {
        "colab": {
          "base_uri": "https://localhost:8080/"
        },
        "id": "NDuZo74BX8ji",
        "outputId": "fbc26850-645c-47a7-b564-06070ee0e267"
      },
      "outputs": [
        {
          "name": "stdout",
          "output_type": "stream",
          "text": [
            "Acurácia dos dados de teste  :  0.6770833333333334\n"
          ]
        }
      ],
      "source": [
        "from sklearn.metrics import accuracy_score\n",
        "\n",
        "Yhat = rf.predict(X_test)\n",
        "\n",
        "print(\"Acurácia dos dados de teste  : \", accuracy_score(Y_test,Yhat))"
      ]
    },
    {
      "cell_type": "markdown",
      "metadata": {
        "id": "F3OswQ4306bz"
      },
      "source": [
        "--- Computanndo predições na forma de classes preditas"
      ]
    },
    {
      "cell_type": "code",
      "execution_count": 15,
      "metadata": {
        "colab": {
          "base_uri": "https://localhost:8080/"
        },
        "id": "OAQcICa9lBTt",
        "outputId": "acbe04f6-c3cc-4e4c-b24f-61ccd59de9bb"
      },
      "outputs": [
        {
          "data": {
            "text/plain": [
              "array(['tested_positive', 'tested_negative', 'tested_negative',\n",
              "       'tested_positive', 'tested_negative', 'tested_negative',\n",
              "       'tested_positive', 'tested_negative', 'tested_negative',\n",
              "       'tested_negative', 'tested_positive', 'tested_negative',\n",
              "       'tested_positive', 'tested_negative', 'tested_negative',\n",
              "       'tested_negative', 'tested_positive', 'tested_negative',\n",
              "       'tested_negative', 'tested_negative', 'tested_negative',\n",
              "       'tested_negative', 'tested_negative', 'tested_negative',\n",
              "       'tested_negative', 'tested_positive', 'tested_positive',\n",
              "       'tested_negative', 'tested_positive', 'tested_negative',\n",
              "       'tested_negative', 'tested_negative', 'tested_negative',\n",
              "       'tested_negative', 'tested_negative', 'tested_negative',\n",
              "       'tested_negative', 'tested_negative', 'tested_negative',\n",
              "       'tested_negative', 'tested_positive', 'tested_negative',\n",
              "       'tested_negative', 'tested_negative', 'tested_negative',\n",
              "       'tested_negative', 'tested_positive', 'tested_positive',\n",
              "       'tested_negative', 'tested_negative', 'tested_negative',\n",
              "       'tested_negative', 'tested_positive', 'tested_negative',\n",
              "       'tested_negative', 'tested_negative', 'tested_negative',\n",
              "       'tested_negative', 'tested_positive', 'tested_positive',\n",
              "       'tested_negative', 'tested_positive', 'tested_negative',\n",
              "       'tested_positive', 'tested_positive', 'tested_positive',\n",
              "       'tested_negative', 'tested_negative', 'tested_positive',\n",
              "       'tested_positive', 'tested_positive', 'tested_negative',\n",
              "       'tested_negative', 'tested_positive', 'tested_negative',\n",
              "       'tested_positive', 'tested_positive', 'tested_negative',\n",
              "       'tested_negative', 'tested_negative', 'tested_negative',\n",
              "       'tested_positive', 'tested_negative', 'tested_positive',\n",
              "       'tested_negative', 'tested_negative', 'tested_negative',\n",
              "       'tested_negative', 'tested_negative', 'tested_negative',\n",
              "       'tested_positive', 'tested_positive', 'tested_negative',\n",
              "       'tested_negative', 'tested_positive', 'tested_negative',\n",
              "       'tested_negative', 'tested_negative', 'tested_negative',\n",
              "       'tested_negative', 'tested_positive', 'tested_positive',\n",
              "       'tested_positive', 'tested_negative', 'tested_negative',\n",
              "       'tested_positive', 'tested_negative', 'tested_negative',\n",
              "       'tested_negative', 'tested_positive', 'tested_positive',\n",
              "       'tested_negative', 'tested_negative', 'tested_negative',\n",
              "       'tested_negative', 'tested_negative', 'tested_negative',\n",
              "       'tested_negative', 'tested_negative', 'tested_negative',\n",
              "       'tested_negative', 'tested_negative', 'tested_negative',\n",
              "       'tested_negative', 'tested_negative', 'tested_negative',\n",
              "       'tested_positive', 'tested_negative', 'tested_negative',\n",
              "       'tested_positive', 'tested_negative', 'tested_positive',\n",
              "       'tested_negative', 'tested_negative', 'tested_negative',\n",
              "       'tested_positive', 'tested_negative', 'tested_negative',\n",
              "       'tested_positive', 'tested_positive', 'tested_negative',\n",
              "       'tested_negative', 'tested_negative', 'tested_positive',\n",
              "       'tested_positive', 'tested_negative', 'tested_negative',\n",
              "       'tested_negative', 'tested_negative', 'tested_negative',\n",
              "       'tested_negative', 'tested_negative', 'tested_negative',\n",
              "       'tested_negative', 'tested_positive', 'tested_positive',\n",
              "       'tested_negative', 'tested_positive', 'tested_positive',\n",
              "       'tested_positive', 'tested_negative', 'tested_negative',\n",
              "       'tested_negative', 'tested_negative', 'tested_negative',\n",
              "       'tested_negative', 'tested_negative', 'tested_negative',\n",
              "       'tested_negative', 'tested_negative', 'tested_negative',\n",
              "       'tested_negative', 'tested_negative', 'tested_negative',\n",
              "       'tested_negative', 'tested_positive', 'tested_negative',\n",
              "       'tested_negative', 'tested_negative', 'tested_positive',\n",
              "       'tested_negative', 'tested_negative', 'tested_negative',\n",
              "       'tested_negative', 'tested_negative', 'tested_positive',\n",
              "       'tested_negative', 'tested_positive', 'tested_positive',\n",
              "       'tested_negative', 'tested_positive', 'tested_negative'],\n",
              "      dtype=object)"
            ]
          },
          "execution_count": 15,
          "metadata": {},
          "output_type": "execute_result"
        }
      ],
      "source": [
        "rf.predict(X_test)\n"
      ]
    },
    {
      "cell_type": "markdown",
      "metadata": {
        "id": "hjQ80UDd0rgb"
      },
      "source": [
        "--- Computando predições na forma probabilidades. A avaliação dessas probabildiades requere outras métricas como Brier score e log loss."
      ]
    },
    {
      "cell_type": "code",
      "execution_count": null,
      "metadata": {
        "colab": {
          "base_uri": "https://localhost:8080/"
        },
        "id": "CewcvYnfkIqG",
        "outputId": "e99565cb-8762-4a59-c9ee-a5569b680397"
      },
      "outputs": [
        {
          "data": {
            "text/plain": [
              "array([[0.765, 0.235],\n",
              "       [0.595, 0.405],\n",
              "       [0.735, 0.265],\n",
              "       [0.765, 0.235],\n",
              "       [0.89 , 0.11 ],\n",
              "       [0.23 , 0.77 ],\n",
              "       [0.925, 0.075],\n",
              "       [0.145, 0.855],\n",
              "       [0.915, 0.085],\n",
              "       [0.89 , 0.11 ],\n",
              "       [0.955, 0.045],\n",
              "       [0.635, 0.365],\n",
              "       [0.995, 0.005],\n",
              "       [0.985, 0.015],\n",
              "       [0.225, 0.775],\n",
              "       [0.455, 0.545],\n",
              "       [0.785, 0.215],\n",
              "       [0.76 , 0.24 ],\n",
              "       [0.85 , 0.15 ],\n",
              "       [0.12 , 0.88 ],\n",
              "       [0.44 , 0.56 ],\n",
              "       [0.625, 0.375],\n",
              "       [0.845, 0.155],\n",
              "       [0.58 , 0.42 ],\n",
              "       [0.84 , 0.16 ],\n",
              "       [0.355, 0.645],\n",
              "       [0.6  , 0.4  ],\n",
              "       [0.24 , 0.76 ],\n",
              "       [0.78 , 0.22 ],\n",
              "       [0.975, 0.025],\n",
              "       [0.665, 0.335],\n",
              "       [0.495, 0.505],\n",
              "       [0.4  , 0.6  ],\n",
              "       [0.295, 0.705],\n",
              "       [0.385, 0.615],\n",
              "       [0.215, 0.785],\n",
              "       [0.705, 0.295],\n",
              "       [0.275, 0.725],\n",
              "       [0.51 , 0.49 ],\n",
              "       [0.23 , 0.77 ],\n",
              "       [0.845, 0.155],\n",
              "       [0.84 , 0.16 ],\n",
              "       [0.93 , 0.07 ],\n",
              "       [0.25 , 0.75 ],\n",
              "       [0.685, 0.315],\n",
              "       [0.095, 0.905],\n",
              "       [0.91 , 0.09 ],\n",
              "       [0.62 , 0.38 ],\n",
              "       [0.275, 0.725],\n",
              "       [0.9  , 0.1  ],\n",
              "       [0.66 , 0.34 ],\n",
              "       [0.71 , 0.29 ],\n",
              "       [0.62 , 0.38 ],\n",
              "       [0.97 , 0.03 ],\n",
              "       [0.495, 0.505],\n",
              "       [0.49 , 0.51 ],\n",
              "       [0.94 , 0.06 ],\n",
              "       [0.87 , 0.13 ],\n",
              "       [0.97 , 0.03 ],\n",
              "       [0.745, 0.255],\n",
              "       [0.18 , 0.82 ],\n",
              "       [0.695, 0.305],\n",
              "       [0.925, 0.075],\n",
              "       [0.245, 0.755],\n",
              "       [0.91 , 0.09 ],\n",
              "       [0.55 , 0.45 ],\n",
              "       [0.505, 0.495],\n",
              "       [0.535, 0.465],\n",
              "       [0.485, 0.515],\n",
              "       [0.975, 0.025],\n",
              "       [0.355, 0.645],\n",
              "       [0.47 , 0.53 ],\n",
              "       [0.975, 0.025],\n",
              "       [0.405, 0.595],\n",
              "       [0.945, 0.055],\n",
              "       [0.74 , 0.26 ],\n",
              "       [0.33 , 0.67 ],\n",
              "       [0.98 , 0.02 ],\n",
              "       [0.915, 0.085],\n",
              "       [0.435, 0.565],\n",
              "       [0.77 , 0.23 ],\n",
              "       [0.835, 0.165],\n",
              "       [0.155, 0.845],\n",
              "       [0.23 , 0.77 ],\n",
              "       [0.885, 0.115],\n",
              "       [0.22 , 0.78 ],\n",
              "       [0.39 , 0.61 ],\n",
              "       [0.64 , 0.36 ],\n",
              "       [0.325, 0.675],\n",
              "       [0.94 , 0.06 ],\n",
              "       [0.76 , 0.24 ],\n",
              "       [0.99 , 0.01 ],\n",
              "       [0.725, 0.275],\n",
              "       [0.505, 0.495],\n",
              "       [0.96 , 0.04 ],\n",
              "       [0.66 , 0.34 ],\n",
              "       [0.97 , 0.03 ],\n",
              "       [0.595, 0.405],\n",
              "       [0.62 , 0.38 ],\n",
              "       [0.46 , 0.54 ],\n",
              "       [0.58 , 0.42 ],\n",
              "       [0.86 , 0.14 ],\n",
              "       [0.745, 0.255],\n",
              "       [0.75 , 0.25 ],\n",
              "       [0.94 , 0.06 ],\n",
              "       [0.51 , 0.49 ],\n",
              "       [0.36 , 0.64 ],\n",
              "       [0.725, 0.275],\n",
              "       [0.945, 0.055],\n",
              "       [0.205, 0.795],\n",
              "       [0.105, 0.895],\n",
              "       [0.165, 0.835],\n",
              "       [0.765, 0.235],\n",
              "       [0.43 , 0.57 ],\n",
              "       [0.6  , 0.4  ],\n",
              "       [0.925, 0.075],\n",
              "       [0.525, 0.475],\n",
              "       [0.585, 0.415],\n",
              "       [0.895, 0.105],\n",
              "       [0.385, 0.615],\n",
              "       [0.795, 0.205],\n",
              "       [0.595, 0.405],\n",
              "       [0.945, 0.055],\n",
              "       [0.9  , 0.1  ],\n",
              "       [0.9  , 0.1  ],\n",
              "       [0.96 , 0.04 ],\n",
              "       [0.39 , 0.61 ],\n",
              "       [0.865, 0.135],\n",
              "       [0.495, 0.505],\n",
              "       [0.905, 0.095],\n",
              "       [0.775, 0.225],\n",
              "       [0.695, 0.305],\n",
              "       [0.15 , 0.85 ],\n",
              "       [0.95 , 0.05 ],\n",
              "       [0.455, 0.545],\n",
              "       [0.385, 0.615],\n",
              "       [0.7  , 0.3  ],\n",
              "       [0.62 , 0.38 ],\n",
              "       [0.925, 0.075],\n",
              "       [0.97 , 0.03 ],\n",
              "       [0.985, 0.015],\n",
              "       [0.695, 0.305],\n",
              "       [0.715, 0.285],\n",
              "       [0.985, 0.015],\n",
              "       [0.875, 0.125],\n",
              "       [0.865, 0.135],\n",
              "       [0.77 , 0.23 ],\n",
              "       [0.14 , 0.86 ],\n",
              "       [0.92 , 0.08 ],\n",
              "       [0.855, 0.145],\n",
              "       [0.9  , 0.1  ],\n",
              "       [0.88 , 0.12 ],\n",
              "       [0.585, 0.415],\n",
              "       [0.945, 0.055],\n",
              "       [0.85 , 0.15 ],\n",
              "       [0.805, 0.195],\n",
              "       [0.68 , 0.32 ],\n",
              "       [0.94 , 0.06 ],\n",
              "       [0.495, 0.505],\n",
              "       [0.31 , 0.69 ],\n",
              "       [0.495, 0.505],\n",
              "       [0.195, 0.805],\n",
              "       [0.15 , 0.85 ],\n",
              "       [0.845, 0.155],\n",
              "       [0.565, 0.435],\n",
              "       [0.63 , 0.37 ],\n",
              "       [0.97 , 0.03 ],\n",
              "       [0.67 , 0.33 ],\n",
              "       [0.84 , 0.16 ],\n",
              "       [0.735, 0.265],\n",
              "       [0.645, 0.355],\n",
              "       [0.865, 0.135],\n",
              "       [0.545, 0.455],\n",
              "       [0.765, 0.235],\n",
              "       [0.595, 0.405],\n",
              "       [0.985, 0.015],\n",
              "       [0.235, 0.765],\n",
              "       [0.855, 0.145],\n",
              "       [0.965, 0.035],\n",
              "       [0.355, 0.645],\n",
              "       [0.89 , 0.11 ],\n",
              "       [0.46 , 0.54 ],\n",
              "       [0.74 , 0.26 ],\n",
              "       [0.43 , 0.57 ],\n",
              "       [0.185, 0.815],\n",
              "       [0.83 , 0.17 ],\n",
              "       [0.115, 0.885],\n",
              "       [0.295, 0.705],\n",
              "       [0.795, 0.205],\n",
              "       [0.86 , 0.14 ],\n",
              "       [0.67 , 0.33 ],\n",
              "       [0.84 , 0.16 ]])"
            ]
          },
          "execution_count": 24,
          "metadata": {},
          "output_type": "execute_result"
        }
      ],
      "source": [
        "# Returning the class probabilities if necessary\n",
        "rf.predict_proba(X_test)"
      ]
    },
    {
      "cell_type": "markdown",
      "metadata": {
        "id": "vp9gB_oqX8jk"
      },
      "source": [
        "---- Confusion matrix"
      ]
    },
    {
      "cell_type": "code",
      "execution_count": null,
      "metadata": {
        "colab": {
          "base_uri": "https://localhost:8080/",
          "height": 450
        },
        "id": "hqlcu0LjX8jl",
        "outputId": "6554d046-4af2-4f84-bfd0-81fa11a78adc"
      },
      "outputs": [
        {
          "data": {
            "image/png": "[encoded data removed]",
            "text/plain": [
              "<Figure size 640x480 with 2 Axes>"
            ]
          },
          "metadata": {},
          "output_type": "display_data"
        }
      ],
      "source": [
        "from sklearn.metrics import confusion_matrix, ConfusionMatrixDisplay\n",
        "import matplotlib.pyplot as plt\n",
        "\n",
        "# Displaying the confusion matrix\n",
        "\n",
        "cm = confusion_matrix(Y_test, Yhat, labels=rf.classes_)\n",
        "\n",
        "disp = ConfusionMatrixDisplay(confusion_matrix=cm,display_labels=rf.classes_)\n",
        "\n",
        "disp.plot()\n",
        "\n",
        "plt.show()"
      ]
    },
    {
      "cell_type": "code",
      "execution_count": null,
      "metadata": {
        "id": "Ay9uYeUP3Zeb"
      },
      "outputs": [],
      "source": []
    },
    {
      "cell_type": "markdown",
      "metadata": {
        "id": "ifn6UPXz1S9d"
      },
      "source": [
        "# Considerações finais"
      ]
    },
    {
      "cell_type": "markdown",
      "metadata": {
        "id": "bghjGaST1YYh"
      },
      "source": [
        "1. Introduzimos o problema de classificação, em que a classe de uma dada entidade de interesse (e.g., pacientes) são preditas a partir de atribuitos preditores (e.g., sintomas). Um algoritmo de aprendizado recebe como entrada um conjunto de exemplos de treinamento e com isso construi uma função (modelo) para classificações de novas instâncias.\n",
        "\n",
        "2. As predições de um modelo nem sempre (ou quase nunca) são totalmente corretas para qualquer exemplo, uma vez que: (a) relação entre os atributos preditores e o atributo alvo pode ser não-determinística em si; (b) os dados de treinamento não contém informação suficiente para estimar um bom modelo; ou (c) o algoritmo errado foi escolhido ou mal-aplicado (por exemplo, com hiperparâmetros errados).\n",
        "\n",
        "3. Pelas razões acima, sempre é importante fazer uma avaliação com um conjunto de teste independente e calcular métricas para avaliação, como a acurácia. Existem muitas outras métricas, claro.\n",
        "\n",
        "4. Existem muitos algoritmos de aprendizagem diferentes. Vimos dois modelos bem conhecidos: árvores de decisão (AD) e random forests (RF). AD são modelos interpretáveis (ditos caixa-branca) mas nbem sempre têm um bom desempenho preditivo. RF são modelos potencialmente melhores mas não são interpretáveis diretamente, o que requer ferramentas auxiliares."
      ]
    }
  ],
  "metadata": {
    "colab": {
      "provenance": []
    },
    "kernelspec": {
      "display_name": "Python 3",
      "name": "python3"
    },
    "language_info": {
      "codemirror_mode": {
        "name": "ipython",
        "version": 3
      },
      "file_extension": ".py",
      "mimetype": "text/x-python",
      "name": "python",
      "nbconvert_exporter": "python",
      "pygments_lexer": "ipython3",
      "version": "3.12.3"
    }
  },
  "nbformat": 4,
  "nbformat_minor": 0
}
