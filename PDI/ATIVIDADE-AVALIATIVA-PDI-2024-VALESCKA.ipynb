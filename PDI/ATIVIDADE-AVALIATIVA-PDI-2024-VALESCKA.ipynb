{
 "cells": [
  {
   "cell_type": "markdown",
   "metadata": {},
   "source": [
    "# QUESTÃO 1\n",
    "## Diferencie os conceitos de amostragem e quantização no processo de digitalização de uma imagem e a consequência desses processos na imagem digital."
   ]
  },
  {
   "cell_type": "markdown",
   "metadata": {},
   "source": [
    "\n",
    "A amostragem e quantização são processos que fazem parte da aquisição da imagem digital. Numa imagem capturada a partir de um sinal analógico observam-se ruídos de sinal. Essa imagem é chamada continua e precisa ser convertida para um sinal digital (pdi01_introdução: pag 35).\n",
    "\n",
    "A imagem continua pode ser dividida em vários quadradinhos, conhecidos como pixels. Esse processo de dividir a imagem em pixels se chama amostragem. Quanto menos pixels forem usados para representar a imagem pior é sua qualidade (imagem pixelada). Em resumo, amostragem define quantos pixels usamos para representar a imagem (pdi01_introdução: pag 29).\n",
    "\n",
    "Após dividir a imagem deve-se definir a cor que será “pintado” cada pixel. No mundo digital, não dá para representar infinitas variações de cor, então simplificamos: escolhemos um número limitado de cores ou tons de cinza. Esse processo é a quantização. Quantização define quantas cores ou tons diferentes cada pixel pode ter.\n",
    "\n",
    "Na quantização, cada pixel é atribuído a um valor numérico que varia dentro de uma escala predefinida (ex.: 256 niveis em uma imagem de 8 bits). Quanto maior a quantização mais precisa será a representação de cores da imagem **(pdi01_introdução: pag 51/57)**."
   ]
  }
 ],
 "metadata": {
  "language_info": {
   "name": "python"
  }
 },
 "nbformat": 4,
 "nbformat_minor": 2
}
